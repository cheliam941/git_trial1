{
 "cells": [
  {
   "cell_type": "code",
   "execution_count": 6,
   "id": "initial_id",
   "metadata": {
    "collapsed": true,
    "ExecuteTime": {
     "end_time": "2024-02-16T13:57:00.956235100Z",
     "start_time": "2024-02-16T13:57:00.943269300Z"
    }
   },
   "outputs": [],
   "source": []
  },
  {
   "cell_type": "code",
   "outputs": [
    {
     "name": "stdout",
     "output_type": "stream",
     "text": [
      "(1, 'Apple', '2021-01-01', 'M', 24.5)\n",
      "(2, 'Apple', '2022-02-02', 'F', 15.3)\n",
      "(3, 'Banana', '2023-03-03', 'M', 68.7)\n",
      "(4, 'Banana', '2024-04-04', 'F', 31.4)\n",
      "(5, 'Cherry', '2021-01-01', 'M', 13.1)\n",
      "(6, 'Apple', '2021-01-01', 'F', 47.9)\n",
      "(7, 'Cherry', '2023-03-03', 'M', 33.3)\n",
      "(8, 'Apple', '2022-02-02', 'F', 56.7)\n",
      "(9, 'Cherry', '2021-01-01', 'M', 25.5)\n",
      "(10, 'Banana', '2024-04-04', 'F', 15.6)\n",
      "(11, 'Apple', '2021-01-01', 'M', 68.1)\n",
      "(12, 'Cherry', '2023-03-03', 'F', 31.7)\n",
      "(13, 'Apple', '2024-04-04', 'M', 13.9)\n",
      "(14, 'Banana', '2021-01-01', 'F', 47.3)\n",
      "(15, 'Cherry', '2022-02-02', 'M', 33.5)\n",
      "(16, 'Apple', '2023-03-03', 'F', 59.7)\n",
      "(17, 'Banana', '2024-04-04', 'M', 27.7)\n",
      "(18, 'Banana', '2021-01-01', 'F', 15.6)\n",
      "(19, 'Cherry', '2022-02-02', 'M', 68.8)\n",
      "(20, 'Apple', '2023-03-03', 'F', 31.4)\n"
     ]
    }
   ],
   "source": [
    "import sqlite3\n",
    "\n",
    "# 创建或连接到一个SQLite数据库\n",
    "conn = sqlite3.connect('python_sql.db')\n",
    "\n",
    "# 创建一个游标对象\n",
    "cur = conn.cursor()\n",
    "\n",
    "# 执行查询语句\n",
    "cur.execute(\"SELECT * FROM TableA\")\n",
    "\n",
    "# 获取并打印所有结果\n",
    "rows = cur.fetchall()\n",
    "for row in rows:\n",
    "    print(row)\n",
    "\n",
    "# 关闭连接\n",
    "conn.close()"
   ],
   "metadata": {
    "collapsed": false,
    "ExecuteTime": {
     "end_time": "2024-02-16T13:57:00.980170100Z",
     "start_time": "2024-02-16T13:57:00.958228800Z"
    }
   },
   "id": "8a28382a7c3dc47d",
   "execution_count": 7
  },
  {
   "cell_type": "code",
   "outputs": [
    {
     "data": {
      "text/plain": "   Field1  Field2      Field3 Field4  Field5\n0       1   Apple  2021-01-01      M    24.5\n1       2   Apple  2022-02-02      F    15.3\n2       3  Banana  2023-03-03      M    68.7\n3       4  Banana  2024-04-04      F    31.4\n4       5  Cherry  2021-01-01      M    13.1\n5       6   Apple  2021-01-01      F    47.9\n6       7  Cherry  2023-03-03      M    33.3\n7       8   Apple  2022-02-02      F    56.7\n8       9  Cherry  2021-01-01      M    25.5\n9      10  Banana  2024-04-04      F    15.6",
      "text/html": "<div>\n<style scoped>\n    .dataframe tbody tr th:only-of-type {\n        vertical-align: middle;\n    }\n\n    .dataframe tbody tr th {\n        vertical-align: top;\n    }\n\n    .dataframe thead th {\n        text-align: right;\n    }\n</style>\n<table border=\"1\" class=\"dataframe\">\n  <thead>\n    <tr style=\"text-align: right;\">\n      <th></th>\n      <th>Field1</th>\n      <th>Field2</th>\n      <th>Field3</th>\n      <th>Field4</th>\n      <th>Field5</th>\n    </tr>\n  </thead>\n  <tbody>\n    <tr>\n      <th>0</th>\n      <td>1</td>\n      <td>Apple</td>\n      <td>2021-01-01</td>\n      <td>M</td>\n      <td>24.5</td>\n    </tr>\n    <tr>\n      <th>1</th>\n      <td>2</td>\n      <td>Apple</td>\n      <td>2022-02-02</td>\n      <td>F</td>\n      <td>15.3</td>\n    </tr>\n    <tr>\n      <th>2</th>\n      <td>3</td>\n      <td>Banana</td>\n      <td>2023-03-03</td>\n      <td>M</td>\n      <td>68.7</td>\n    </tr>\n    <tr>\n      <th>3</th>\n      <td>4</td>\n      <td>Banana</td>\n      <td>2024-04-04</td>\n      <td>F</td>\n      <td>31.4</td>\n    </tr>\n    <tr>\n      <th>4</th>\n      <td>5</td>\n      <td>Cherry</td>\n      <td>2021-01-01</td>\n      <td>M</td>\n      <td>13.1</td>\n    </tr>\n    <tr>\n      <th>5</th>\n      <td>6</td>\n      <td>Apple</td>\n      <td>2021-01-01</td>\n      <td>F</td>\n      <td>47.9</td>\n    </tr>\n    <tr>\n      <th>6</th>\n      <td>7</td>\n      <td>Cherry</td>\n      <td>2023-03-03</td>\n      <td>M</td>\n      <td>33.3</td>\n    </tr>\n    <tr>\n      <th>7</th>\n      <td>8</td>\n      <td>Apple</td>\n      <td>2022-02-02</td>\n      <td>F</td>\n      <td>56.7</td>\n    </tr>\n    <tr>\n      <th>8</th>\n      <td>9</td>\n      <td>Cherry</td>\n      <td>2021-01-01</td>\n      <td>M</td>\n      <td>25.5</td>\n    </tr>\n    <tr>\n      <th>9</th>\n      <td>10</td>\n      <td>Banana</td>\n      <td>2024-04-04</td>\n      <td>F</td>\n      <td>15.6</td>\n    </tr>\n  </tbody>\n</table>\n</div>"
     },
     "execution_count": 8,
     "metadata": {},
     "output_type": "execute_result"
    }
   ],
   "source": [
    "conn = sqlite3.connect('python_sql.db')\n",
    "cur = conn.cursor()\n",
    "import pandas as pd\n",
    "df = pd.read_sql_query(\"SELECT * FROM TableA\", conn)\n",
    "df.head(10)"
   ],
   "metadata": {
    "collapsed": false,
    "ExecuteTime": {
     "end_time": "2024-02-16T13:57:01.014081800Z",
     "start_time": "2024-02-16T13:57:00.972193Z"
    }
   },
   "id": "ac4fc8cd85142415",
   "execution_count": 8
  },
  {
   "cell_type": "code",
   "outputs": [
    {
     "data": {
      "text/plain": "   S1\n0  18\n1  10\n2  36\n3  13\n4  32",
      "text/html": "<div>\n<style scoped>\n    .dataframe tbody tr th:only-of-type {\n        vertical-align: middle;\n    }\n\n    .dataframe tbody tr th {\n        vertical-align: top;\n    }\n\n    .dataframe thead th {\n        text-align: right;\n    }\n</style>\n<table border=\"1\" class=\"dataframe\">\n  <thead>\n    <tr style=\"text-align: right;\">\n      <th></th>\n      <th>S1</th>\n    </tr>\n  </thead>\n  <tbody>\n    <tr>\n      <th>0</th>\n      <td>18</td>\n    </tr>\n    <tr>\n      <th>1</th>\n      <td>10</td>\n    </tr>\n    <tr>\n      <th>2</th>\n      <td>36</td>\n    </tr>\n    <tr>\n      <th>3</th>\n      <td>13</td>\n    </tr>\n    <tr>\n      <th>4</th>\n      <td>32</td>\n    </tr>\n  </tbody>\n</table>\n</div>"
     },
     "execution_count": 9,
     "metadata": {},
     "output_type": "execute_result"
    }
   ],
   "source": [
    "df = pd.read_sql_query(\"SELECT sum(Field1) as S1 FROM TableA group by Field2,Field3\", conn)\n",
    "df.head()"
   ],
   "metadata": {
    "collapsed": false,
    "ExecuteTime": {
     "end_time": "2024-02-16T13:57:01.016074100Z",
     "start_time": "2024-02-16T13:57:00.989146Z"
    }
   },
   "id": "77ef79f70145c284",
   "execution_count": 9
  },
  {
   "cell_type": "code",
   "outputs": [
    {
     "data": {
      "text/plain": "   Field2      Field3  S1\n0   Apple  2021-01-01  18\n1   Apple  2022-02-02  10\n2   Apple  2023-03-03  36\n3   Apple  2024-04-04  13\n4  Banana  2021-01-01  32\n5  Banana  2023-03-03   3\n6  Banana  2024-04-04  31\n7  Cherry  2021-01-01  14\n8  Cherry  2022-02-02  34\n9  Cherry  2023-03-03  19",
      "text/html": "<div>\n<style scoped>\n    .dataframe tbody tr th:only-of-type {\n        vertical-align: middle;\n    }\n\n    .dataframe tbody tr th {\n        vertical-align: top;\n    }\n\n    .dataframe thead th {\n        text-align: right;\n    }\n</style>\n<table border=\"1\" class=\"dataframe\">\n  <thead>\n    <tr style=\"text-align: right;\">\n      <th></th>\n      <th>Field2</th>\n      <th>Field3</th>\n      <th>S1</th>\n    </tr>\n  </thead>\n  <tbody>\n    <tr>\n      <th>0</th>\n      <td>Apple</td>\n      <td>2021-01-01</td>\n      <td>18</td>\n    </tr>\n    <tr>\n      <th>1</th>\n      <td>Apple</td>\n      <td>2022-02-02</td>\n      <td>10</td>\n    </tr>\n    <tr>\n      <th>2</th>\n      <td>Apple</td>\n      <td>2023-03-03</td>\n      <td>36</td>\n    </tr>\n    <tr>\n      <th>3</th>\n      <td>Apple</td>\n      <td>2024-04-04</td>\n      <td>13</td>\n    </tr>\n    <tr>\n      <th>4</th>\n      <td>Banana</td>\n      <td>2021-01-01</td>\n      <td>32</td>\n    </tr>\n    <tr>\n      <th>5</th>\n      <td>Banana</td>\n      <td>2023-03-03</td>\n      <td>3</td>\n    </tr>\n    <tr>\n      <th>6</th>\n      <td>Banana</td>\n      <td>2024-04-04</td>\n      <td>31</td>\n    </tr>\n    <tr>\n      <th>7</th>\n      <td>Cherry</td>\n      <td>2021-01-01</td>\n      <td>14</td>\n    </tr>\n    <tr>\n      <th>8</th>\n      <td>Cherry</td>\n      <td>2022-02-02</td>\n      <td>34</td>\n    </tr>\n    <tr>\n      <th>9</th>\n      <td>Cherry</td>\n      <td>2023-03-03</td>\n      <td>19</td>\n    </tr>\n  </tbody>\n</table>\n</div>"
     },
     "execution_count": 10,
     "metadata": {},
     "output_type": "execute_result"
    }
   ],
   "source": [
    "df = pd.read_sql_query(\"SELECT Field2,Field3,sum(Field1) as S1 FROM TableA group by Field2,Field3\", conn)\n",
    "df"
   ],
   "metadata": {
    "collapsed": false,
    "ExecuteTime": {
     "end_time": "2024-02-16T13:57:01.044996400Z",
     "start_time": "2024-02-16T13:57:01.004105700Z"
    }
   },
   "id": "366bc1f68b828598",
   "execution_count": 10
  },
  {
   "cell_type": "code",
   "outputs": [
    {
     "data": {
      "text/plain": "   Field2      Field3  S1\n0   Apple  2021-01-01  77\n1  Banana  2023-03-03  66\n2  Cherry  2021-01-01  67",
      "text/html": "<div>\n<style scoped>\n    .dataframe tbody tr th:only-of-type {\n        vertical-align: middle;\n    }\n\n    .dataframe tbody tr th {\n        vertical-align: top;\n    }\n\n    .dataframe thead th {\n        text-align: right;\n    }\n</style>\n<table border=\"1\" class=\"dataframe\">\n  <thead>\n    <tr style=\"text-align: right;\">\n      <th></th>\n      <th>Field2</th>\n      <th>Field3</th>\n      <th>S1</th>\n    </tr>\n  </thead>\n  <tbody>\n    <tr>\n      <th>0</th>\n      <td>Apple</td>\n      <td>2021-01-01</td>\n      <td>77</td>\n    </tr>\n    <tr>\n      <th>1</th>\n      <td>Banana</td>\n      <td>2023-03-03</td>\n      <td>66</td>\n    </tr>\n    <tr>\n      <th>2</th>\n      <td>Cherry</td>\n      <td>2021-01-01</td>\n      <td>67</td>\n    </tr>\n  </tbody>\n</table>\n</div>"
     },
     "execution_count": 11,
     "metadata": {},
     "output_type": "execute_result"
    }
   ],
   "source": [
    "df = pd.read_sql_query(\"SELECT Field2,Field3,sum(Field1) as S1 FROM TableA group by Field2\", conn)\n",
    "df"
   ],
   "metadata": {
    "collapsed": false,
    "ExecuteTime": {
     "end_time": "2024-02-16T13:57:01.061996500Z",
     "start_time": "2024-02-16T13:57:01.019065900Z"
    }
   },
   "id": "5b8ca66ca4d9535e",
   "execution_count": 11
  },
  {
   "cell_type": "code",
   "outputs": [],
   "source": [],
   "metadata": {
    "collapsed": false,
    "ExecuteTime": {
     "end_time": "2024-02-16T13:57:01.092869400Z",
     "start_time": "2024-02-16T13:57:01.034026100Z"
    }
   },
   "id": "a476ce0de5f6973c",
   "execution_count": 11
  }
 ],
 "metadata": {
  "kernelspec": {
   "display_name": "Python 3",
   "language": "python",
   "name": "python3"
  },
  "language_info": {
   "codemirror_mode": {
    "name": "ipython",
    "version": 2
   },
   "file_extension": ".py",
   "mimetype": "text/x-python",
   "name": "python",
   "nbconvert_exporter": "python",
   "pygments_lexer": "ipython2",
   "version": "2.7.6"
  }
 },
 "nbformat": 4,
 "nbformat_minor": 5
}
