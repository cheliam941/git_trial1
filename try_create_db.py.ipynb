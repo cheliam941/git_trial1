{
 "cells": [
  {
   "cell_type": "code",
   "execution_count": null,
   "id": "initial_id",
   "metadata": {
    "collapsed": true,
    "is_executing": true
   },
   "outputs": [],
   "source": [
    "import sqlite3\n",
    "\n",
    "# 创建或连接到SQLite数据库\n",
    "conn = sqlite3.connect('python_sql.db')\n",
    "\n",
    "# 创建一个游标对象\n",
    "cur = conn.cursor()\n",
    "\n",
    "# 创建数据库表TableA\n",
    "cur.execute('''\n",
    "CREATE TABLE TableA\n",
    "(Field1 INTEGER, Field2 TEXT, Field3 TEXT, Field4 TEXT, Field5 REAL);\n",
    "''')\n",
    "\n",
    "# 插入全部数据\n",
    "data = [\n",
    "    (1, 'Apple', '2021-01-01', 'M', 24.5),\n",
    "    (2, 'Apple', '2022-02-02', 'F', 15.3),\n",
    "    (3, 'Banana', '2023-03-03', 'M', 68.7),\n",
    "    (4, 'Banana', '2024-04-04', 'F', 31.4),\n",
    "    (5, 'Cherry', '2021-01-01', 'M', 13.1),\n",
    "    (6, 'Apple', '2021-01-01', 'F', 47.9),\n",
    "    (7, 'Cherry', '2023-03-03', 'M', 33.3),\n",
    "    (8, 'Apple', '2022-02-02', 'F', 56.7),\n",
    "    (9, 'Cherry', '2021-01-01', 'M', 25.5),\n",
    "    (10, 'Banana', '2024-04-04', 'F', 15.6),\n",
    "    (11, 'Apple', '2021-01-01', 'M', 68.1),\n",
    "    (12, 'Cherry', '2023-03-03', 'F', 31.7),\n",
    "    (13, 'Apple', '2024-04-04', 'M', 13.9),\n",
    "    (14, 'Banana', '2021-01-01', 'F', 47.3),\n",
    "    (15, 'Cherry', '2022-02-02', 'M', 33.5),\n",
    "    (16, 'Apple', '2023-03-03', 'F', 59.7),\n",
    "    (17, 'Banana', '2024-04-04', 'M', 27.7),\n",
    "    (18, 'Banana', '2021-01-01', 'F', 15.6),\n",
    "    (19, 'Cherry', '2022-02-02', 'M', 68.8),\n",
    "    (20, 'Apple', '2023-03-03', 'F', 31.4)\n",
    "]\n",
    "\n",
    "cur.executemany(\"INSERT INTO TableA VALUES (?, ?, ?, ?, ?)\", data)\n",
    "\n",
    "# 提交当前事务\n",
    "conn.commit()\n",
    "\n",
    "# 关闭数据库连接\n",
    "conn.close()"
   ]
  },
  {
   "cell_type": "code",
   "outputs": [
    {
     "name": "stdout",
     "output_type": "stream",
     "text": [
      "Original DataFrames:\n",
      "     A   B\n",
      "K0  A0  B0\n",
      "K1  A1  B1\n",
      "K2  A2  B2\n",
      "     C   D\n",
      "K0  C0  D0\n",
      "K2  C2  D2\n",
      "K3  C3  D3\n",
      "\n",
      "Result of Left Merge:\n",
      "  key_0   A   B    C    D\n",
      "0    K0  A0  B0   C0   D0\n",
      "1    K1  A1  B1  NaN  NaN\n",
      "2    K2  A2  B2   C2   D2\n",
      "\n",
      "Result of Right Merge:\n",
      "  key_0    A    B   C   D\n",
      "0    K0   A0   B0  C0  D0\n",
      "1    K2   A2   B2  C2  D2\n",
      "2    K3  NaN  NaN  C3  D3\n"
     ]
    }
   ],
   "source": [
    "# 导入pandas库\n",
    "import pandas as pd\n",
    "\n",
    "# 创建两个DataFrame\n",
    "df1 = pd.DataFrame({'A': ['A0', 'A1', 'A2'],\n",
    "                    'B': ['B0', 'B1', 'B2']},\n",
    "                    index=['K0', 'K1', 'K2'])\n",
    "\n",
    "df2 = pd.DataFrame({'C': ['C0', 'C2', 'C3'],\n",
    "                    'D': ['D0', 'D2', 'D3']},\n",
    "                    index=['K0', 'K2', 'K3'])\n",
    "\n",
    "print(\"Original DataFrames:\")\n",
    "print(df1)\n",
    "print(df2)\n",
    "\n",
    "# 使用merge函数进行左连接\n",
    "result_left = pd.merge(df1, df2, left_on=df1.index, right_on=df2.index, how='left')\n",
    "\n",
    "print(\"\\nResult of Left Merge:\")\n",
    "print(result_left)\n",
    "\n",
    "# 使用merge函数进行右连接\n",
    "result_right = pd.merge(df1, df2, left_on=df1.index, right_on=df2.index, how='right')\n",
    "\n",
    "print(\"\\nResult of Right Merge:\")\n",
    "print(result_right)"
   ],
   "metadata": {
    "collapsed": false,
    "ExecuteTime": {
     "end_time": "2024-02-17T03:15:01.241869900Z",
     "start_time": "2024-02-17T03:15:01.236882700Z"
    }
   },
   "id": "3005b134ffd69cc0",
   "execution_count": 8
  },
  {
   "cell_type": "code",
   "outputs": [
    {
     "name": "stdout",
     "output_type": "stream",
     "text": [
      "  instrument_id market underlying_instrument_id\n",
      "0        IC2021   CCFX                   IC2021\n",
      "1        IH2021   CCFX                   IH2021\n",
      "2    N009052021   CCFX               N009052021\n",
      "3        IM2021   CCFX                   IM2021\n",
      "4    N008522021   CCFX               N008522021\n",
      "5        IF2021   CCFX                   IF2021\n"
     ]
    }
   ],
   "source": [
    "import pandas as pd\n",
    "\n",
    "d1_position = pd.DataFrame({\n",
    "    'instrument_id': ['IC2021', 'IH2021', 'N009052021', 'IM2021', 'N008522021', 'IF2021'],\n",
    "    'market': ['CCFX', 'CCFX', 'CCFX', 'CCFX', 'CCFX', 'CCFX'],\n",
    "    'underlying_instrument_id': ['IC2021', 'IH2021', 'N009052021', 'IM2021', 'N008522021', 'IF2021']\n",
    "})\n",
    "\n",
    "print(d1_position)"
   ],
   "metadata": {
    "collapsed": false,
    "ExecuteTime": {
     "end_time": "2024-02-17T03:15:05.073500300Z",
     "start_time": "2024-02-17T03:15:05.059537900Z"
    }
   },
   "id": "5a15a5ff2131405b",
   "execution_count": 9
  },
  {
   "cell_type": "code",
   "outputs": [],
   "source": [
    "my_dict = {\"IC\": \"000905.XSHG\", \"IH\": \"000016.XSHG\", \"IF\": \"000300.XSHG\", \"IM\": \"000852.XSHG\",\n",
    "           \"N00905.XSHG\": \"000905.XSHG\", \"N00852.XSHG\": \"000852.XSHG\"}"
   ],
   "metadata": {
    "collapsed": false,
    "ExecuteTime": {
     "end_time": "2024-02-17T03:15:07.608455200Z",
     "start_time": "2024-02-17T03:15:07.600477Z"
    }
   },
   "id": "2caab9f2676ae7c2",
   "execution_count": 10
  },
  {
   "cell_type": "code",
   "outputs": [
    {
     "ename": "KeyError",
     "evalue": "'N0'",
     "output_type": "error",
     "traceback": [
      "\u001B[1;31m---------------------------------------------------------------------------\u001B[0m",
      "\u001B[1;31mKeyError\u001B[0m                                  Traceback (most recent call last)",
      "\u001B[1;32m~\\AppData\\Local\\Temp\\ipykernel_46716\\1841535930.py\u001B[0m in \u001B[0;36m<module>\u001B[1;34m\u001B[0m\n\u001B[1;32m----> 1\u001B[1;33m d1_position['underlying_instrument_id'] = d1_position.apply(\n\u001B[0m\u001B[0;32m      2\u001B[0m     \u001B[1;32mlambda\u001B[0m \u001B[0mrow\u001B[0m\u001B[1;33m:\u001B[0m \u001B[0mmy_dict\u001B[0m\u001B[1;33m[\u001B[0m\u001B[0mrow\u001B[0m\u001B[1;33m[\u001B[0m\u001B[1;34m'instrument_id'\u001B[0m\u001B[1;33m]\u001B[0m\u001B[1;33m[\u001B[0m\u001B[1;33m:\u001B[0m\u001B[1;36m2\u001B[0m\u001B[1;33m]\u001B[0m\u001B[1;33m]\u001B[0m \u001B[1;32mif\u001B[0m \u001B[0mrow\u001B[0m\u001B[1;33m[\u001B[0m\u001B[1;34m'market'\u001B[0m\u001B[1;33m]\u001B[0m \u001B[1;33m==\u001B[0m \u001B[1;34m'CCFX'\u001B[0m \u001B[1;32melse\u001B[0m \u001B[0mrow\u001B[0m\u001B[1;33m[\u001B[0m\u001B[1;34m'underlying_instrument_id'\u001B[0m\u001B[1;33m]\u001B[0m\u001B[1;33m,\u001B[0m\u001B[1;33m\u001B[0m\u001B[1;33m\u001B[0m\u001B[0m\n\u001B[0;32m      3\u001B[0m     axis=1)\n\u001B[0;32m      4\u001B[0m \u001B[0mprint\u001B[0m\u001B[1;33m(\u001B[0m\u001B[0md1_position\u001B[0m\u001B[1;33m)\u001B[0m\u001B[1;33m\u001B[0m\u001B[1;33m\u001B[0m\u001B[0m\n",
      "\u001B[1;32mE:\\anaconda\\lib\\site-packages\\pandas\\core\\frame.py\u001B[0m in \u001B[0;36mapply\u001B[1;34m(self, func, axis, raw, result_type, args, **kwargs)\u001B[0m\n\u001B[0;32m   8846\u001B[0m             \u001B[0mkwargs\u001B[0m\u001B[1;33m=\u001B[0m\u001B[0mkwargs\u001B[0m\u001B[1;33m,\u001B[0m\u001B[1;33m\u001B[0m\u001B[1;33m\u001B[0m\u001B[0m\n\u001B[0;32m   8847\u001B[0m         )\n\u001B[1;32m-> 8848\u001B[1;33m         \u001B[1;32mreturn\u001B[0m \u001B[0mop\u001B[0m\u001B[1;33m.\u001B[0m\u001B[0mapply\u001B[0m\u001B[1;33m(\u001B[0m\u001B[1;33m)\u001B[0m\u001B[1;33m.\u001B[0m\u001B[0m__finalize__\u001B[0m\u001B[1;33m(\u001B[0m\u001B[0mself\u001B[0m\u001B[1;33m,\u001B[0m \u001B[0mmethod\u001B[0m\u001B[1;33m=\u001B[0m\u001B[1;34m\"apply\"\u001B[0m\u001B[1;33m)\u001B[0m\u001B[1;33m\u001B[0m\u001B[1;33m\u001B[0m\u001B[0m\n\u001B[0m\u001B[0;32m   8849\u001B[0m \u001B[1;33m\u001B[0m\u001B[0m\n\u001B[0;32m   8850\u001B[0m     def applymap(\n",
      "\u001B[1;32mE:\\anaconda\\lib\\site-packages\\pandas\\core\\apply.py\u001B[0m in \u001B[0;36mapply\u001B[1;34m(self)\u001B[0m\n\u001B[0;32m    731\u001B[0m             \u001B[1;32mreturn\u001B[0m \u001B[0mself\u001B[0m\u001B[1;33m.\u001B[0m\u001B[0mapply_raw\u001B[0m\u001B[1;33m(\u001B[0m\u001B[1;33m)\u001B[0m\u001B[1;33m\u001B[0m\u001B[1;33m\u001B[0m\u001B[0m\n\u001B[0;32m    732\u001B[0m \u001B[1;33m\u001B[0m\u001B[0m\n\u001B[1;32m--> 733\u001B[1;33m         \u001B[1;32mreturn\u001B[0m \u001B[0mself\u001B[0m\u001B[1;33m.\u001B[0m\u001B[0mapply_standard\u001B[0m\u001B[1;33m(\u001B[0m\u001B[1;33m)\u001B[0m\u001B[1;33m\u001B[0m\u001B[1;33m\u001B[0m\u001B[0m\n\u001B[0m\u001B[0;32m    734\u001B[0m \u001B[1;33m\u001B[0m\u001B[0m\n\u001B[0;32m    735\u001B[0m     \u001B[1;32mdef\u001B[0m \u001B[0magg\u001B[0m\u001B[1;33m(\u001B[0m\u001B[0mself\u001B[0m\u001B[1;33m)\u001B[0m\u001B[1;33m:\u001B[0m\u001B[1;33m\u001B[0m\u001B[1;33m\u001B[0m\u001B[0m\n",
      "\u001B[1;32mE:\\anaconda\\lib\\site-packages\\pandas\\core\\apply.py\u001B[0m in \u001B[0;36mapply_standard\u001B[1;34m(self)\u001B[0m\n\u001B[0;32m    855\u001B[0m \u001B[1;33m\u001B[0m\u001B[0m\n\u001B[0;32m    856\u001B[0m     \u001B[1;32mdef\u001B[0m \u001B[0mapply_standard\u001B[0m\u001B[1;33m(\u001B[0m\u001B[0mself\u001B[0m\u001B[1;33m)\u001B[0m\u001B[1;33m:\u001B[0m\u001B[1;33m\u001B[0m\u001B[1;33m\u001B[0m\u001B[0m\n\u001B[1;32m--> 857\u001B[1;33m         \u001B[0mresults\u001B[0m\u001B[1;33m,\u001B[0m \u001B[0mres_index\u001B[0m \u001B[1;33m=\u001B[0m \u001B[0mself\u001B[0m\u001B[1;33m.\u001B[0m\u001B[0mapply_series_generator\u001B[0m\u001B[1;33m(\u001B[0m\u001B[1;33m)\u001B[0m\u001B[1;33m\u001B[0m\u001B[1;33m\u001B[0m\u001B[0m\n\u001B[0m\u001B[0;32m    858\u001B[0m \u001B[1;33m\u001B[0m\u001B[0m\n\u001B[0;32m    859\u001B[0m         \u001B[1;31m# wrap results\u001B[0m\u001B[1;33m\u001B[0m\u001B[1;33m\u001B[0m\u001B[0m\n",
      "\u001B[1;32mE:\\anaconda\\lib\\site-packages\\pandas\\core\\apply.py\u001B[0m in \u001B[0;36mapply_series_generator\u001B[1;34m(self)\u001B[0m\n\u001B[0;32m    871\u001B[0m             \u001B[1;32mfor\u001B[0m \u001B[0mi\u001B[0m\u001B[1;33m,\u001B[0m \u001B[0mv\u001B[0m \u001B[1;32min\u001B[0m \u001B[0menumerate\u001B[0m\u001B[1;33m(\u001B[0m\u001B[0mseries_gen\u001B[0m\u001B[1;33m)\u001B[0m\u001B[1;33m:\u001B[0m\u001B[1;33m\u001B[0m\u001B[1;33m\u001B[0m\u001B[0m\n\u001B[0;32m    872\u001B[0m                 \u001B[1;31m# ignore SettingWithCopy here in case the user mutates\u001B[0m\u001B[1;33m\u001B[0m\u001B[1;33m\u001B[0m\u001B[0m\n\u001B[1;32m--> 873\u001B[1;33m                 \u001B[0mresults\u001B[0m\u001B[1;33m[\u001B[0m\u001B[0mi\u001B[0m\u001B[1;33m]\u001B[0m \u001B[1;33m=\u001B[0m \u001B[0mself\u001B[0m\u001B[1;33m.\u001B[0m\u001B[0mf\u001B[0m\u001B[1;33m(\u001B[0m\u001B[0mv\u001B[0m\u001B[1;33m)\u001B[0m\u001B[1;33m\u001B[0m\u001B[1;33m\u001B[0m\u001B[0m\n\u001B[0m\u001B[0;32m    874\u001B[0m                 \u001B[1;32mif\u001B[0m \u001B[0misinstance\u001B[0m\u001B[1;33m(\u001B[0m\u001B[0mresults\u001B[0m\u001B[1;33m[\u001B[0m\u001B[0mi\u001B[0m\u001B[1;33m]\u001B[0m\u001B[1;33m,\u001B[0m \u001B[0mABCSeries\u001B[0m\u001B[1;33m)\u001B[0m\u001B[1;33m:\u001B[0m\u001B[1;33m\u001B[0m\u001B[1;33m\u001B[0m\u001B[0m\n\u001B[0;32m    875\u001B[0m                     \u001B[1;31m# If we have a view on v, we need to make a copy because\u001B[0m\u001B[1;33m\u001B[0m\u001B[1;33m\u001B[0m\u001B[0m\n",
      "\u001B[1;32m~\\AppData\\Local\\Temp\\ipykernel_46716\\1841535930.py\u001B[0m in \u001B[0;36m<lambda>\u001B[1;34m(row)\u001B[0m\n\u001B[0;32m      1\u001B[0m d1_position['underlying_instrument_id'] = d1_position.apply(\n\u001B[1;32m----> 2\u001B[1;33m     \u001B[1;32mlambda\u001B[0m \u001B[0mrow\u001B[0m\u001B[1;33m:\u001B[0m \u001B[0mmy_dict\u001B[0m\u001B[1;33m[\u001B[0m\u001B[0mrow\u001B[0m\u001B[1;33m[\u001B[0m\u001B[1;34m'instrument_id'\u001B[0m\u001B[1;33m]\u001B[0m\u001B[1;33m[\u001B[0m\u001B[1;33m:\u001B[0m\u001B[1;36m2\u001B[0m\u001B[1;33m]\u001B[0m\u001B[1;33m]\u001B[0m \u001B[1;32mif\u001B[0m \u001B[0mrow\u001B[0m\u001B[1;33m[\u001B[0m\u001B[1;34m'market'\u001B[0m\u001B[1;33m]\u001B[0m \u001B[1;33m==\u001B[0m \u001B[1;34m'CCFX'\u001B[0m \u001B[1;32melse\u001B[0m \u001B[0mrow\u001B[0m\u001B[1;33m[\u001B[0m\u001B[1;34m'underlying_instrument_id'\u001B[0m\u001B[1;33m]\u001B[0m\u001B[1;33m,\u001B[0m\u001B[1;33m\u001B[0m\u001B[1;33m\u001B[0m\u001B[0m\n\u001B[0m\u001B[0;32m      3\u001B[0m     axis=1)\n\u001B[0;32m      4\u001B[0m \u001B[0mprint\u001B[0m\u001B[1;33m(\u001B[0m\u001B[0md1_position\u001B[0m\u001B[1;33m)\u001B[0m\u001B[1;33m\u001B[0m\u001B[1;33m\u001B[0m\u001B[0m\n",
      "\u001B[1;31mKeyError\u001B[0m: 'N0'"
     ]
    }
   ],
   "source": [
    "d1_position['underlying_instrument_id'] = d1_position.apply(\n",
    "    lambda row: my_dict[row['instrument_id'][:2]] if row['market'] == 'CCFX' else row['underlying_instrument_id'],\n",
    "    axis=1)\n",
    "print(d1_position)"
   ],
   "metadata": {
    "collapsed": false,
    "ExecuteTime": {
     "end_time": "2024-02-17T03:15:10.589279500Z",
     "start_time": "2024-02-17T03:15:10.558331Z"
    }
   },
   "id": "fde2697f8c5d8fa6",
   "execution_count": 11
  },
  {
   "cell_type": "code",
   "outputs": [
    {
     "name": "stdout",
     "output_type": "stream",
     "text": [
      "DataFrame 1:\n",
      "    A   B Key\n",
      "0  A0  B0  K0\n",
      "1  A1  B1  K1\n",
      "2  A2  B2  K2\n",
      "3  A3  B3  K3\n",
      "\n",
      "DataFrame 2:\n",
      "    C   B Key\n",
      "0  C0  B0  K0\n",
      "1  C1  B5  K1\n",
      "2  C2  B1  K6\n",
      "3  C3  B6  K7\n"
     ]
    }
   ],
   "source": [
    "import pandas as pd\n",
    "\n",
    "# 创建第一个 DataFrame\n",
    "df1 = pd.DataFrame({\n",
    "   'A': ['A0', 'A1', 'A2', 'A3'],\n",
    "   'B': ['B0', 'B1', 'B2', 'B3'],\n",
    "   'Key': ['K0', 'K1', 'K2', 'K3']\n",
    "})\n",
    "\n",
    "# 创建第二个 DataFrame\n",
    "df2 = pd.DataFrame({\n",
    "   'C': ['C0', 'C1', 'C2', 'C3'],\n",
    "   'B': ['B0', 'B5', 'B1', 'B6'],\n",
    "   'Key': ['K0', 'K1', 'K6', 'K7']\n",
    "})\n",
    "\n",
    "print(\"DataFrame 1:\")\n",
    "print(df1)\n",
    "print(\"\\nDataFrame 2:\")\n",
    "print(df2)"
   ],
   "metadata": {
    "collapsed": false,
    "ExecuteTime": {
     "end_time": "2024-02-17T04:54:59.916713Z",
     "start_time": "2024-02-17T04:54:59.907738700Z"
    }
   },
   "id": "2e36713f092747fb",
   "execution_count": 26
  },
  {
   "cell_type": "code",
   "outputs": [
    {
     "name": "stdout",
     "output_type": "stream",
     "text": [
      "     A   B Key   C\n",
      "0   A0  B0  K0  C0\n",
      "1  NaN  B5  K1  C1\n",
      "2  NaN  B1  K6  C2\n",
      "3  NaN  B6  K7  C3\n"
     ]
    }
   ],
   "source": [
    "dd = pd.merge(left=df1, right=df2, how='right',left_on=['B','Key'],right_on=['B','Key'])\n",
    "print(dd)"
   ],
   "metadata": {
    "collapsed": false,
    "ExecuteTime": {
     "end_time": "2024-02-17T04:54:51.398994600Z",
     "start_time": "2024-02-17T04:54:51.380045100Z"
    }
   },
   "id": "2cb1c5f7eac4decb",
   "execution_count": 25
  },
  {
   "cell_type": "code",
   "outputs": [],
   "source": [
    "# 导入pandas库\n",
    "import pandas as pd\n",
    "\n",
    "# 创建一个包含姓名和分数的DataFrame\n",
    "data = {\n",
    "    'Name': ['Tom', 'Nick', 'John', 'Tom', 'John'], \n",
    "    'Score': [90, 85, 77, 95, 80]\n",
    "}\n",
    "df = pd.DataFrame(data)\n",
    "\n"
   ],
   "metadata": {
    "collapsed": false,
    "ExecuteTime": {
     "end_time": "2024-02-17T05:23:38.024874400Z",
     "start_time": "2024-02-17T05:23:37.978001Z"
    }
   },
   "id": "d69c14ca61bcb0b5",
   "execution_count": 27
  },
  {
   "cell_type": "code",
   "outputs": [
    {
     "name": "stdout",
     "output_type": "stream",
     "text": [
      "   Name  Score\n",
      "0   Tom     90\n",
      "1  Nick     85\n",
      "2  John     77\n",
      "3   Tom     95\n",
      "4  John     80\n"
     ]
    }
   ],
   "source": [
    "print(df)"
   ],
   "metadata": {
    "collapsed": false,
    "ExecuteTime": {
     "end_time": "2024-02-17T05:23:45.701218200Z",
     "start_time": "2024-02-17T05:23:45.692242100Z"
    }
   },
   "id": "2c225a6624438ee2",
   "execution_count": 28
  },
  {
   "cell_type": "code",
   "outputs": [
    {
     "name": "stdout",
     "output_type": "stream",
     "text": [
      "   Name  Score\n",
      "0  John   78.5\n",
      "1  Nick   85.0\n",
      "2   Tom   92.5\n"
     ]
    }
   ],
   "source": [
    "# 按Name进行分组，并求每一组的平均分数\n",
    "grouped_df = df.groupby('Name').agg({'Score': 'mean'}).reset_index()\n",
    "\n",
    "print(grouped_df)\n"
   ],
   "metadata": {
    "collapsed": false,
    "ExecuteTime": {
     "end_time": "2024-02-17T05:26:25.489151500Z",
     "start_time": "2024-02-17T05:26:25.469206Z"
    }
   },
   "id": "a08fd8a3f3770149",
   "execution_count": 33
  },
  {
   "cell_type": "code",
   "outputs": [
    {
     "name": "stdout",
     "output_type": "stream",
     "text": [
      "A    False\n",
      "B     True\n",
      "dtype: bool\n"
     ]
    }
   ],
   "source": [
    "import pandas as pd\n",
    "df = pd.DataFrame({'A': [0, 1, 2, 3, 4],'B': [5, 6, 7, 8, 9]})\n",
    "print(df.all())\n",
    "    "
   ],
   "metadata": {
    "collapsed": false,
    "ExecuteTime": {
     "end_time": "2024-02-19T08:02:44.404869100Z",
     "start_time": "2024-02-19T08:02:44.164513800Z"
    }
   },
   "id": "4782a26c7303cd4c",
   "execution_count": 2
  },
  {
   "cell_type": "code",
   "outputs": [
    {
     "name": "stdout",
     "output_type": "stream",
     "text": [
      "fas\n"
     ]
    }
   ],
   "source": [
    "print('fas')"
   ],
   "metadata": {
    "collapsed": false,
    "ExecuteTime": {
     "end_time": "2024-02-19T08:02:41.388221300Z",
     "start_time": "2024-02-19T08:02:41.373259900Z"
    }
   },
   "id": "14f1cd04b29ab90",
   "execution_count": 1
  },
  {
   "cell_type": "code",
   "outputs": [
    {
     "name": "stdout",
     "output_type": "stream",
     "text": [
      "Name\n",
      "John    180\n",
      "Nick    165\n",
      "Tom     150\n",
      "Name: Score, dtype: int64\n"
     ]
    }
   ],
   "source": [
    "import pandas as pd\n",
    "\n",
    "data = {'Name': ['Tom', 'Nick', 'John', 'Tom', 'Nick', 'John'],\n",
    "        'Subject': ['Math', 'Math', 'Math', 'Science', 'Science', 'Science'],\n",
    "        'Score': [80, 90, 85, 70, 75, 95]}\n",
    "df = pd.DataFrame(data)\n",
    "\n",
    "grouped = df.groupby('Name')\n",
    "summed = grouped['Score'].sum()\n",
    "\n",
    "print(summed)"
   ],
   "metadata": {
    "collapsed": false,
    "ExecuteTime": {
     "end_time": "2024-02-20T02:18:53.600827200Z",
     "start_time": "2024-02-20T02:18:53.524027500Z"
    }
   },
   "id": "67d4eb544eba4f7d",
   "execution_count": 3
  },
  {
   "cell_type": "code",
   "outputs": [],
   "source": [],
   "metadata": {
    "collapsed": false
   },
   "id": "a2f73a0e2c1a011"
  }
 ],
 "metadata": {
  "kernelspec": {
   "display_name": "Python 3",
   "language": "python",
   "name": "python3"
  },
  "language_info": {
   "codemirror_mode": {
    "name": "ipython",
    "version": 2
   },
   "file_extension": ".py",
   "mimetype": "text/x-python",
   "name": "python",
   "nbconvert_exporter": "python",
   "pygments_lexer": "ipython2",
   "version": "2.7.6"
  }
 },
 "nbformat": 4,
 "nbformat_minor": 5
}
